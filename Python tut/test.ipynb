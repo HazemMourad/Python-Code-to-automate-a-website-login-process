{
 "cells": [
  {
   "cell_type": "code",
   "execution_count": 2,
   "metadata": {},
   "outputs": [
    {
     "ename": "ElementNotInteractableException",
     "evalue": "Message: element not interactable\n  (Session info: chrome=114.0.5735.134)\nStacktrace:\nBacktrace:\n\tGetHandleVerifier [0x00D46E73+48323]\n\t(No symbol) [0x00CD9661]\n\t(No symbol) [0x00BE51D0]\n\t(No symbol) [0x00C0D1E6]\n\t(No symbol) [0x00C0CA51]\n\t(No symbol) [0x00C2A8DC]\n\t(No symbol) [0x00C09BD6]\n\t(No symbol) [0x00C2AC34]\n\t(No symbol) [0x00C3CAC2]\n\t(No symbol) [0x00C2A6D6]\n\t(No symbol) [0x00C0847C]\n\t(No symbol) [0x00C0957D]\n\tGetHandleVerifier [0x00FAFD5D+2575277]\n\tGetHandleVerifier [0x00FEF86E+2836158]\n\tGetHandleVerifier [0x00FE96DC+2811180]\n\tGetHandleVerifier [0x00DD41B0+626688]\n\t(No symbol) [0x00CE314C]\n\t(No symbol) [0x00CDF4B8]\n\t(No symbol) [0x00CDF59B]\n\t(No symbol) [0x00CD21B7]\n\tBaseThreadInitThunk [0x75E800C9+25]\n\tRtlGetAppContainerNamedObjectPath [0x772F7B4E+286]\n\tRtlGetAppContainerNamedObjectPath [0x772F7B1E+238]\n",
     "output_type": "error",
     "traceback": [
      "\u001b[1;31m---------------------------------------------------------------------------\u001b[0m",
      "\u001b[1;31mElementNotInteractableException\u001b[0m           Traceback (most recent call last)",
      "Cell \u001b[1;32mIn[2], line 16\u001b[0m\n\u001b[0;32m     14\u001b[0m driver\u001b[39m.\u001b[39mfind_element(By\u001b[39m.\u001b[39mXPATH, \u001b[39m\"\u001b[39m\u001b[39m//*[@id=\u001b[39m\u001b[39m'\u001b[39m\u001b[39msignInWithEmail\u001b[39m\u001b[39m'\u001b[39m\u001b[39m]\u001b[39m\u001b[39m\"\u001b[39m)\u001b[39m.\u001b[39mclick()\n\u001b[0;32m     15\u001b[0m password_field \u001b[39m=\u001b[39m WebDriverWait(driver, \u001b[39m15\u001b[39m)\u001b[39m.\u001b[39muntil(EC\u001b[39m.\u001b[39mpresence_of_element_located((By\u001b[39m.\u001b[39mXPATH, \u001b[39m\"\u001b[39m\u001b[39m//*[@id=\u001b[39m\u001b[39m'\u001b[39m\u001b[39mpassword\u001b[39m\u001b[39m'\u001b[39m\u001b[39m]\u001b[39m\u001b[39m\"\u001b[39m)))\n\u001b[1;32m---> 16\u001b[0m password_field\u001b[39m.\u001b[39;49msend_keys(\u001b[39m\"\u001b[39;49m\u001b[39mRoadstar1988\u001b[39;49m\u001b[39m\"\u001b[39;49m)\n\u001b[0;32m     17\u001b[0m driver\u001b[39m.\u001b[39mfind_element(By\u001b[39m.\u001b[39mXPATH, \u001b[39m\"\u001b[39m\u001b[39m//*[@id=\u001b[39m\u001b[39m'\u001b[39m\u001b[39muserLoginSubmitButton\u001b[39m\u001b[39m'\u001b[39m\u001b[39m]\u001b[39m\u001b[39m\"\u001b[39m)\u001b[39m.\u001b[39mclick()\n\u001b[0;32m     18\u001b[0m wait \u001b[39m=\u001b[39m WebDriverWait(driver, \u001b[39m50\u001b[39m)\n",
      "File \u001b[1;32md:\\Python tut\\.venv\\Lib\\site-packages\\selenium\\webdriver\\remote\\webelement.py:231\u001b[0m, in \u001b[0;36mWebElement.send_keys\u001b[1;34m(self, *value)\u001b[0m\n\u001b[0;32m    228\u001b[0m             remote_files\u001b[39m.\u001b[39mappend(\u001b[39mself\u001b[39m\u001b[39m.\u001b[39m_upload(file))\n\u001b[0;32m    229\u001b[0m         value \u001b[39m=\u001b[39m \u001b[39m\"\u001b[39m\u001b[39m\\n\u001b[39;00m\u001b[39m\"\u001b[39m\u001b[39m.\u001b[39mjoin(remote_files)\n\u001b[1;32m--> 231\u001b[0m \u001b[39mself\u001b[39;49m\u001b[39m.\u001b[39;49m_execute(\n\u001b[0;32m    232\u001b[0m     Command\u001b[39m.\u001b[39;49mSEND_KEYS_TO_ELEMENT, {\u001b[39m\"\u001b[39;49m\u001b[39mtext\u001b[39;49m\u001b[39m\"\u001b[39;49m: \u001b[39m\"\u001b[39;49m\u001b[39m\"\u001b[39;49m\u001b[39m.\u001b[39;49mjoin(keys_to_typing(value)), \u001b[39m\"\u001b[39;49m\u001b[39mvalue\u001b[39;49m\u001b[39m\"\u001b[39;49m: keys_to_typing(value)}\n\u001b[0;32m    233\u001b[0m )\n",
      "File \u001b[1;32md:\\Python tut\\.venv\\Lib\\site-packages\\selenium\\webdriver\\remote\\webelement.py:395\u001b[0m, in \u001b[0;36mWebElement._execute\u001b[1;34m(self, command, params)\u001b[0m\n\u001b[0;32m    393\u001b[0m     params \u001b[39m=\u001b[39m {}\n\u001b[0;32m    394\u001b[0m params[\u001b[39m\"\u001b[39m\u001b[39mid\u001b[39m\u001b[39m\"\u001b[39m] \u001b[39m=\u001b[39m \u001b[39mself\u001b[39m\u001b[39m.\u001b[39m_id\n\u001b[1;32m--> 395\u001b[0m \u001b[39mreturn\u001b[39;00m \u001b[39mself\u001b[39;49m\u001b[39m.\u001b[39;49m_parent\u001b[39m.\u001b[39;49mexecute(command, params)\n",
      "File \u001b[1;32md:\\Python tut\\.venv\\Lib\\site-packages\\selenium\\webdriver\\remote\\webdriver.py:346\u001b[0m, in \u001b[0;36mWebDriver.execute\u001b[1;34m(self, driver_command, params)\u001b[0m\n\u001b[0;32m    344\u001b[0m response \u001b[39m=\u001b[39m \u001b[39mself\u001b[39m\u001b[39m.\u001b[39mcommand_executor\u001b[39m.\u001b[39mexecute(driver_command, params)\n\u001b[0;32m    345\u001b[0m \u001b[39mif\u001b[39;00m response:\n\u001b[1;32m--> 346\u001b[0m     \u001b[39mself\u001b[39;49m\u001b[39m.\u001b[39;49merror_handler\u001b[39m.\u001b[39;49mcheck_response(response)\n\u001b[0;32m    347\u001b[0m     response[\u001b[39m\"\u001b[39m\u001b[39mvalue\u001b[39m\u001b[39m\"\u001b[39m] \u001b[39m=\u001b[39m \u001b[39mself\u001b[39m\u001b[39m.\u001b[39m_unwrap_value(response\u001b[39m.\u001b[39mget(\u001b[39m\"\u001b[39m\u001b[39mvalue\u001b[39m\u001b[39m\"\u001b[39m, \u001b[39mNone\u001b[39;00m))\n\u001b[0;32m    348\u001b[0m     \u001b[39mreturn\u001b[39;00m response\n",
      "File \u001b[1;32md:\\Python tut\\.venv\\Lib\\site-packages\\selenium\\webdriver\\remote\\errorhandler.py:245\u001b[0m, in \u001b[0;36mErrorHandler.check_response\u001b[1;34m(self, response)\u001b[0m\n\u001b[0;32m    243\u001b[0m         alert_text \u001b[39m=\u001b[39m value[\u001b[39m\"\u001b[39m\u001b[39malert\u001b[39m\u001b[39m\"\u001b[39m]\u001b[39m.\u001b[39mget(\u001b[39m\"\u001b[39m\u001b[39mtext\u001b[39m\u001b[39m\"\u001b[39m)\n\u001b[0;32m    244\u001b[0m     \u001b[39mraise\u001b[39;00m exception_class(message, screen, stacktrace, alert_text)  \u001b[39m# type: ignore[call-arg]  # mypy is not smart enough here\u001b[39;00m\n\u001b[1;32m--> 245\u001b[0m \u001b[39mraise\u001b[39;00m exception_class(message, screen, stacktrace)\n",
      "\u001b[1;31mElementNotInteractableException\u001b[0m: Message: element not interactable\n  (Session info: chrome=114.0.5735.134)\nStacktrace:\nBacktrace:\n\tGetHandleVerifier [0x00D46E73+48323]\n\t(No symbol) [0x00CD9661]\n\t(No symbol) [0x00BE51D0]\n\t(No symbol) [0x00C0D1E6]\n\t(No symbol) [0x00C0CA51]\n\t(No symbol) [0x00C2A8DC]\n\t(No symbol) [0x00C09BD6]\n\t(No symbol) [0x00C2AC34]\n\t(No symbol) [0x00C3CAC2]\n\t(No symbol) [0x00C2A6D6]\n\t(No symbol) [0x00C0847C]\n\t(No symbol) [0x00C0957D]\n\tGetHandleVerifier [0x00FAFD5D+2575277]\n\tGetHandleVerifier [0x00FEF86E+2836158]\n\tGetHandleVerifier [0x00FE96DC+2811180]\n\tGetHandleVerifier [0x00DD41B0+626688]\n\t(No symbol) [0x00CE314C]\n\t(No symbol) [0x00CDF4B8]\n\t(No symbol) [0x00CDF59B]\n\t(No symbol) [0x00CD21B7]\n\tBaseThreadInitThunk [0x75E800C9+25]\n\tRtlGetAppContainerNamedObjectPath [0x772F7B4E+286]\n\tRtlGetAppContainerNamedObjectPath [0x772F7B1E+238]\n"
     ]
    }
   ],
   "source": [
    "from selenium import webdriver\n",
    "from selenium.webdriver.chrome.options import Options\n",
    "from selenium.webdriver.common.by import By\n",
    "from selenium.webdriver.support.ui import WebDriverWait\n",
    "from selenium.webdriver.support import expected_conditions as EC\n",
    "import time\n",
    "\n",
    "options = Options()\n",
    "options.add_argument(\"--start-maximized\")\n",
    "driver = webdriver.Chrome(options=options)\n",
    "driver.get(\"https://secure.sahibinden.com/giris?fbclid=IwAR2X8DgZ0tm7F-ap0-cV5-jIeqZUGmWg1E_r9YXPoCz4sfIvATLd9mGD3hg\")\n",
    "email_field = WebDriverWait(driver, 15).until(EC.presence_of_element_located((By.XPATH, \"//*[@id='loginSelectionPageEmail']\")))\n",
    "email_field.send_keys(\"hazemmgaber3110@gmail.com\")\n",
    "driver.find_element(By.XPATH, \"/html/body/div[4]/div[2]/div[3]/div/form/div/button\").click()\n",
    "#password_field = WebDriverWait(driver, 15).until(EC.presence_of_element_located((By.XPATH, \"//*[@id='password']\")))\n",
    "#password_field.send_keys(\"Roadstar1988\")\n",
    "#driver.find_element(By.XPATH, \"//*[@id='userLoginSubmitButton']\").click()\n",
    "#wait = WebDriverWait(driver, 50)\n",
    "\n"
   ]
  }
 ],
 "metadata": {
  "kernelspec": {
   "display_name": ".venv",
   "language": "python",
   "name": "python3"
  },
  "language_info": {
   "codemirror_mode": {
    "name": "ipython",
    "version": 3
   },
   "file_extension": ".py",
   "mimetype": "text/x-python",
   "name": "python",
   "nbconvert_exporter": "python",
   "pygments_lexer": "ipython3",
   "version": "3.11.3"
  },
  "orig_nbformat": 4
 },
 "nbformat": 4,
 "nbformat_minor": 2
}
